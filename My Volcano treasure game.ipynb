{
 "cells": [
  {
   "cell_type": "code",
   "execution_count": 4,
   "id": "a4b32903-1431-4b57-af73-54a4fcf19120",
   "metadata": {},
   "outputs": [
    {
     "name": "stdout",
     "output_type": "stream",
     "text": [
      "🗺️ Welcome, brave explorer!\n",
      "You're stranded on Volcano Island. There's a treasure here — somewhere...\n",
      "Make smart choices. The island is full of traps, creatures, and mystery!\n"
     ]
    }
   ],
   "source": [
    "print(\"🗺️ Welcome, brave explorer!\")\n",
    "print(\"You're stranded on Volcano Island. There's a treasure here — somewhere...\")\n",
    "print(\"Make smart choices. The island is full of traps, creatures, and mystery!\")"
   ]
  },
  {
   "cell_type": "code",
   "execution_count": 5,
   "id": "b0a24ba1-1b58-44f8-b177-0454e88efa3e",
   "metadata": {},
   "outputs": [
    {
     "name": "stdout",
     "output_type": "stream",
     "text": [
      "\n",
      "   ████████╗██████╗ ███████╗███████╗███████╗██████╗ \n",
      "   ╚══██╔══╝██╔══██╗██╔════╝██╔════╝██╔════╝██╔══██╗\n",
      "      ██║   ██████╔╝█████╗  █████╗  █████╗  ██████╔╝\n",
      "      ██║   ██╔═══╝ ██╔══╝  ██╔══╝  ██╔══╝  ██╔══██╗\n",
      "      ██║   ██║     ███████╗███████╗███████╗██║  ██║\n",
      "      ╚═╝   ╚═╝     ╚══════╝╚══════╝╚══════╝╚═╝  ╚═╝\n",
      "\n",
      "Welcome to Mystery Volcano Island!\n"
     ]
    }
   ],
   "source": [
    "print(\"\"\"\n",
    "   ████████╗██████╗ ███████╗███████╗███████╗██████╗ \n",
    "   ╚══██╔══╝██╔══██╗██╔════╝██╔════╝██╔════╝██╔══██╗\n",
    "      ██║   ██████╔╝█████╗  █████╗  █████╗  ██████╔╝\n",
    "      ██║   ██╔═══╝ ██╔══╝  ██╔══╝  ██╔══╝  ██╔══██╗\n",
    "      ██║   ██║     ███████╗███████╗███████╗██║  ██║\n",
    "      ╚═╝   ╚═╝     ╚══════╝╚══════╝╚══════╝╚═╝  ╚═╝\n",
    "\"\"\")\n",
    "print(\"Welcome to Mystery Volcano Island!\")\n"
   ]
  },
  {
   "cell_type": "code",
   "execution_count": 6,
   "id": "db6f5e75-29c1-4ec2-a041-ac47756aca4b",
   "metadata": {},
   "outputs": [
    {
     "name": "stdin",
     "output_type": "stream",
     "text": [
      "You're at a jungle crossroad. Do you go 'left' or 'right' left\n"
     ]
    },
    {
     "name": "stdout",
     "output_type": "stream",
     "text": [
      "You find a wider river blocking your path\n"
     ]
    },
    {
     "name": "stdin",
     "output_type": "stream",
     "text": [
      "Do you 'swim' or 'build' a raft swim\n"
     ]
    },
    {
     "name": "stdout",
     "output_type": "stream",
     "text": [
      "Eaten by crocodiles - Game Over!\n"
     ]
    }
   ],
   "source": [
    "pick_direction = input(\"You're at a jungle crossroad. Do you go 'left' or 'right'\").lower()\n",
    "if pick_direction == \"left\":\n",
    "    print(\"You find a wider river blocking your path\")\n",
    "    build_or_swim = input(\"Do you 'swim' or 'build' a raft\").lower()\n",
    "    if build_or_swim == \"build\":\n",
    "        print(\"You build a raft and cross safely. You arrive at the volcano base.\")\n",
    "        choose_door = input(\"There are 3 doors: 'red', 'blue', 'green'. Choose one.\").lower()\n",
    "\n",
    "        if choose_door == \"green\":\n",
    "            print(\"You win. You find the treasure\")\n",
    "        elif choose_door == \"red\":\n",
    "            print(\"Burned alive by larva.\")\n",
    "        elif choose_door == \"blue\":\n",
    "            print(\"Eaten by snakes.\")\n",
    "        else:\n",
    "            print(\"Volcano erupts while you hesitate\")\n",
    "    elif build_or_swim == \"swim\":\n",
    "        print(\"Eaten by crocodiles - Game Over!\")\n",
    "\n",
    "\n",
    "elif pick_direction == \"right\":\n",
    "    print(\"You reach the edge of a cliff. It's steep but climbable.\")\n",
    "    climb_or_search = input(\"Do you 'climb' or 'search' for another way?\").lower()\n",
    "    if climb_or_search == \"climb\":\n",
    "        print(\"You climb halfway.... then the cliff shakes from mini eruption!\")\n",
    "        jump_or_holdtight = input(\"Do you 'jump' to a ledge or 'hold on' tightly?\").lower()\n",
    "        if  jump_or_holdtight == \"jump\":\n",
    "            print(\"You land safely in a hidden cave leading to the volcano entrance.\")\n",
    "            \n",
    "            door_choose = input(\"There are 3 doors: 'red', 'blue', 'green'. choose one.\").lower\n",
    "            \n",
    "            if choose_door == \"green\":\n",
    "                print(\"You win. You find the treasure\")\n",
    "            elif choose_door == \"red\":\n",
    "                print(\"Burned alive by larva.\")\n",
    "            elif choose_door == \"blue\":\n",
    "                print(\"Eaten by snakes.\")\n",
    "            else:\n",
    "                print(\"Volcano erupts while you hesitate\")\n",
    "        elif jump_or_holdtight == \"hold on\":\n",
    "            print(\"Rocks fall and crush on you. Game over!\")\n",
    "        else:\n",
    "            print(\"Invalid input! Game over.\")\n",
    "    elif climb_or_search == \"search\":\n",
    "        print(\"You find a dark cave at the cliff base.\")\n",
    "        enter_cave = input(\"Enter cave? 'yes' or 'no'.\").lower()\n",
    "        if enter_cave == \"yes\":\n",
    "            print(\"The cave leads to a lava lake - no way out. Game over!\")\n",
    "        else:\n",
    "            print(\"You wander too long and starve. Game over\")\n",
    "    else:\n",
    "        print(\"invalid input. Game over\")\n",
    "else:\n",
    "    print(\"invalid input. Game over\")\n",
    "    "
   ]
  },
  {
   "cell_type": "code",
   "execution_count": null,
   "id": "4af21763-55cc-4a5f-aa4b-a43870d9107d",
   "metadata": {},
   "outputs": [],
   "source": []
  },
  {
   "cell_type": "code",
   "execution_count": null,
   "id": "5d999a42-0ce0-41b5-8477-bbedbcdb07da",
   "metadata": {},
   "outputs": [],
   "source": []
  },
  {
   "cell_type": "code",
   "execution_count": null,
   "id": "23692847-190c-42e0-9856-8a27b777f888",
   "metadata": {},
   "outputs": [],
   "source": []
  },
  {
   "cell_type": "code",
   "execution_count": null,
   "id": "6dec52eb-ef9f-4cd4-be1a-db4b53a53ada",
   "metadata": {},
   "outputs": [],
   "source": []
  },
  {
   "cell_type": "code",
   "execution_count": null,
   "id": "4fd564b6-190d-4d96-a954-ff17996d2034",
   "metadata": {},
   "outputs": [],
   "source": []
  },
  {
   "cell_type": "code",
   "execution_count": null,
   "id": "e2e4c126-abe6-4425-bd51-ee29cec2e48b",
   "metadata": {},
   "outputs": [],
   "source": []
  },
  {
   "cell_type": "code",
   "execution_count": null,
   "id": "663e7a0c-3019-4e86-8a44-2b34489b2390",
   "metadata": {},
   "outputs": [],
   "source": []
  },
  {
   "cell_type": "code",
   "execution_count": null,
   "id": "5f507b7b-0db6-4b32-bda5-6fe61e7f5645",
   "metadata": {},
   "outputs": [],
   "source": []
  },
  {
   "cell_type": "code",
   "execution_count": null,
   "id": "a035b5ca-28e3-4504-9f30-4812af1a450c",
   "metadata": {},
   "outputs": [],
   "source": []
  },
  {
   "cell_type": "code",
   "execution_count": null,
   "id": "a58d96f4-2fd9-4b32-8146-f3cf37acb65c",
   "metadata": {},
   "outputs": [],
   "source": []
  },
  {
   "cell_type": "code",
   "execution_count": null,
   "id": "b0d19534-430a-463c-94db-884ff241ef3a",
   "metadata": {},
   "outputs": [],
   "source": []
  },
  {
   "cell_type": "code",
   "execution_count": null,
   "id": "51f9ab67-35e0-4ee5-b0ae-e4ef7024009f",
   "metadata": {},
   "outputs": [],
   "source": []
  },
  {
   "cell_type": "code",
   "execution_count": null,
   "id": "74333f37-b144-4b39-a8e9-0f44473e94e0",
   "metadata": {},
   "outputs": [],
   "source": []
  },
  {
   "cell_type": "code",
   "execution_count": null,
   "id": "4a8372fb-6a39-46d7-aca5-c8acfa5502c3",
   "metadata": {},
   "outputs": [],
   "source": []
  },
  {
   "cell_type": "code",
   "execution_count": null,
   "id": "ba7a1828-443e-4702-a756-2bef123457df",
   "metadata": {},
   "outputs": [],
   "source": []
  }
 ],
 "metadata": {
  "kernelspec": {
   "display_name": "Python 3 (ipykernel)",
   "language": "python",
   "name": "python3"
  },
  "language_info": {
   "codemirror_mode": {
    "name": "ipython",
    "version": 3
   },
   "file_extension": ".py",
   "mimetype": "text/x-python",
   "name": "python",
   "nbconvert_exporter": "python",
   "pygments_lexer": "ipython3",
   "version": "3.12.7"
  }
 },
 "nbformat": 4,
 "nbformat_minor": 5
}
